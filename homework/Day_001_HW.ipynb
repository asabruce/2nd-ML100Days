{
 "cells": [
  {
   "cell_type": "code",
   "execution_count": 13,
   "metadata": {},
   "outputs": [],
   "source": [
    "我選擇的是Predict Future Sales Final project for \"How to win a data science competition\" Coursera course，\n",
    "1. 這組資料為何重要？\n",
    "因為進銷貨資料是很多公司都有的資料，如果能透過分析預測未來銷售情形，就能夠預先進行鋪貨，節省調貨的成本並提高成交率\n",
    "（有的客人可能不願意等調貨），並且避免囤積貨物，還能夠了解每間店鋪所在地點的購物特色。\n",
    "2. 資料從何而來？\n",
    "這組資料由俄國軟體商店1C-company所提供，主要為他們內部的銷售紀錄。\n",
    "3. 收集而來的資料型態為何？\n",
    "這組資料為結構化的資料，已經分好了訓練組及驗證組，還有商品及商品分類的介紹。\n",
    "4. 這組資料想解決的問題如何評估？\n",
    "這組資料使用 root mean squared error (RMSE)，這是一個迴歸分析問題，目標是預測一個值。"
   ]
  },
  {
   "cell_type": "code",
   "execution_count": null,
   "metadata": {},
   "outputs": [],
   "source": [
    "想像你經營一個自由載客車隊，你希望能透過數據分析以提升業績，請你思考並描述你如何規劃整體的分析/解決方案：\n",
    "1. 核心問題為何 (tips：如何定義 「提升業績 & 你的假設」)\n",
    "自己坐計程車的經驗，很常在尖峰時段叫不到車，這些叫不到車的客戶，很可能就會使用競業的叫車服務，造成營收衰退;業績提升指的應是盡量增加營收，\n",
    "假設能減少車隊空車行駛或停留的時間（亦即盡量載客）以及提升載客數，就能有效提升業績。目前假設，使用計程車的區域和到達地點，在不同時段應該會\n",
    "有一定的模式，如果能夠透過分析空車時間較短以及載客戶量較多司機的行為模式，應該能夠辨認出各地區叫車的熱點，並且預測接下來時段哪些地方較可能\n",
    "有人叫車。\n",
    "2. 資料從何而來 (tips：哪些資料可能會對你想問的問題產生影響 & 資料如何蒐集)\n",
    "透過車機系統蒐集：GPS位置資訊、司機車速、載客情形。\n",
    "紀錄顧客叫車時間地點、目的地資訊\n",
    "3. 蒐集而來的資料型態為何\n",
    "結構化的資料。\n",
    "4. 你要回答的問題，其如何評估 (tips：你的假設如何驗證)\n",
    "怎麼樣的司機能夠載客較多＆降低空車率，建立模型，並預測司機的空車率＆一定時間內的載客數量，使用MSE: Mean Squared Error進行驗證 "
   ]
  },
  {
   "cell_type": "code",
   "execution_count": null,
   "metadata": {},
   "outputs": [],
   "source": [
    "import numpy as np\n",
    "import matplotlib.pyplot as plt"
   ]
  },
  {
   "cell_type": "code",
   "execution_count": 5,
   "metadata": {},
   "outputs": [
    {
     "name": "stdout",
     "output_type": "stream",
     "text": [
      "Using matplotlib backend: MacOSX\n"
     ]
    }
   ],
   "source": [
    "import numpy as np\n",
    "import matplotlib.pyplot as plt\n",
    "%matplotlib\n",
    "w = 3\n",
    "b = 0.5\n",
    "\n",
    "x_lin = np.linspace(0, 100, 101)\n",
    "\n",
    "y = (x_lin + np.random.randn(101) * 5) * w + b\n",
    "\n",
    "plt.plot(x_lin, y, 'b.', label = 'data points')\n",
    "plt.title(\"Assume we have data points\")\n",
    "plt.legend(loc = 2)\n",
    "plt.show()"
   ]
  },
  {
   "cell_type": "code",
   "execution_count": 7,
   "metadata": {},
   "outputs": [],
   "source": [
    "y_hat = x_lin * w + b\n",
    "plt.plot(x_lin, y, 'b.', label = 'data')\n",
    "plt.plot(x_lin, y_hat, 'r-', label = 'prediction')\n",
    "plt.title(\"Assume we have data points (And the prediction)\")\n",
    "plt.legend(loc = 2)\n",
    "plt.show()"
   ]
  },
  {
   "cell_type": "code",
   "execution_count": 16,
   "metadata": {},
   "outputs": [
    {
     "name": "stdout",
     "output_type": "stream",
     "text": [
      "The mean square error is 559.590\n"
     ]
    }
   ],
   "source": [
    "def mean_square_error(y , yp):\n",
    "    mse = MSE = sum(y - yp)**2 / len(y)\n",
    "    return mse\n",
    "\n",
    "MSE = mean_square_error(y,y_hat)\n",
    "print(\"The mean square error is %.3f\" % (MSE))"
   ]
  },
  {
   "cell_type": "code",
   "execution_count": null,
   "metadata": {},
   "outputs": [],
   "source": []
  }
 ],
 "metadata": {
  "kernelspec": {
   "display_name": "Python 3",
   "language": "python",
   "name": "python3"
  },
  "language_info": {
   "codemirror_mode": {
    "name": "ipython",
    "version": 3
   },
   "file_extension": ".py",
   "mimetype": "text/x-python",
   "name": "python",
   "nbconvert_exporter": "python",
   "pygments_lexer": "ipython3",
   "version": "3.6.4"
  }
 },
 "nbformat": 4,
 "nbformat_minor": 2
}
