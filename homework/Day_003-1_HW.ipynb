{
 "cells": [
  {
   "cell_type": "markdown",
   "metadata": {},
   "source": [
    "# Day_003-1_HW"
   ]
  },
  {
   "cell_type": "code",
   "execution_count": 58,
   "metadata": {},
   "outputs": [],
   "source": [
    "import pandas as pd\n",
    "import numpy as np"
   ]
  },
  {
   "cell_type": "code",
   "execution_count": 59,
   "metadata": {},
   "outputs": [],
   "source": [
    "col_title = (\"國家\",\"人口\")\n",
    "country = (\"日本\",\"美國\",\"中國\",\"台灣\")"
   ]
  },
  {
   "cell_type": "code",
   "execution_count": 60,
   "metadata": {},
   "outputs": [],
   "source": [
    "number_list = []\n",
    "for i in range(0,4):\n",
    "    number_list.append(np.random.randint(500000,100000000))\n",
    "number = tuple(number_list)"
   ]
  },
  {
   "cell_type": "markdown",
   "metadata": {},
   "source": [
    "<b>筆記：</b> <br>\n",
    "1. np.random.randint(x,y) 在x到y之間取整數亂數值<br>"
   ]
  },
  {
   "cell_type": "code",
   "execution_count": 77,
   "metadata": {},
   "outputs": [
    {
     "name": "stdout",
     "output_type": "stream",
     "text": [
      "         人口  國家\n",
      "0  40090650  日本\n",
      "1  58271312  美國\n",
      "2  82603976  中國\n",
      "3  51879534  台灣\n"
     ]
    }
   ],
   "source": [
    "col_data = [country, number]\n",
    "zipped_data = list(zip(col_title,col_data))\n",
    "dataframe_data = pd.DataFrame(dict(zipped_data))\n",
    "print(dataframe_data)"
   ]
  },
  {
   "cell_type": "markdown",
   "metadata": {},
   "source": [
    "<b>筆記：</b> <br>\n",
    "1. zip 返回的是一個物件，需要用list去轉換他(http://www.runoob.com/python/python-func-zip.html)<br>\n",
    "2. 再用dict()將list轉換為dictionary<br>\n",
    "3. pd.DataFrame 可將dictionary轉換為dataframe資料結構<br>"
   ]
  },
  {
   "cell_type": "code",
   "execution_count": 75,
   "metadata": {},
   "outputs": [
    {
     "name": "stdout",
     "output_type": "stream",
     "text": [
      "人口最多的國家是中國\n"
     ]
    }
   ],
   "source": [
    "print ('人口最多的國家是' + dataframe_data.iloc[dataframe_data['人口'].idxmax(), 1])"
   ]
  },
  {
   "cell_type": "markdown",
   "metadata": {},
   "source": [
    "<b>筆記：</b> <br>\n",
    "1. dataframe_data['人口'].idxmax() 找出「人口」欄位的最大值，並回傳列號(從0起算)<br>\n",
    "2. dataframe_data.iloc[x,y] 回傳第x列、第y欄的數值(從0起算) <br>"
   ]
  }
 ],
 "metadata": {
  "kernelspec": {
   "display_name": "Python 3",
   "language": "python",
   "name": "python3"
  },
  "language_info": {
   "codemirror_mode": {
    "name": "ipython",
    "version": 3
   },
   "file_extension": ".py",
   "mimetype": "text/x-python",
   "name": "python",
   "nbconvert_exporter": "python",
   "pygments_lexer": "ipython3",
   "version": "3.6.4"
  }
 },
 "nbformat": 4,
 "nbformat_minor": 2
}
